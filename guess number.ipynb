{
 "cells": [
  {
   "cell_type": "code",
   "execution_count": 15,
   "metadata": {},
   "outputs": [
    {
     "name": "stdout",
     "output_type": "stream",
     "text": [
      "Guess a randomly generated number between 0 and 20.\n",
      "10\n",
      "too high\n",
      "100\n",
      "Please guess numbers between 0 and 20\n",
      "21\n",
      "Please guess numbers between 0 and 20\n",
      "5\n",
      "correct!!\n"
     ]
    }
   ],
   "source": [
    "from random import randrange\n",
    "\n",
    "num = randrange(0,21)\n",
    "\n",
    "def guess(n):\n",
    "        if n not in range(0,21):\n",
    "            print(\"Please guess numbers between 0 and 20\")\n",
    "        elif n > num:\n",
    "            print(\"too high\")\n",
    "        elif n < num:\n",
    "            print(\"too low\")\n",
    "        else:\n",
    "            print(\"correct!!\")\n",
    "            \n",
    "\n",
    "    \n",
    "if __name__ == \"__main__\":\n",
    "    print(\"Guess a randomly generated number between 0 and 20.\")\n",
    "    while num != n:\n",
    "        n = int(input())\n",
    "        guess(n)"
   ]
  },
  {
   "cell_type": "code",
   "execution_count": 46,
   "metadata": {},
   "outputs": [
    {
     "name": "stdout",
     "output_type": "stream",
     "text": [
      "To https://github.com/johnny98/small_projects.git\n",
      " \u001b[31m! [rejected]       \u001b[m master -> master (non-fast-forward)\n",
      "\u001b[31merror: failed to push some refs to 'https://github.com/johnny98/small_projects.git'\n",
      "\u001b[m\u001b[33mhint: Updates were rejected because the tip of your current branch is behind\u001b[m\n",
      "\u001b[33mhint: its remote counterpart. Integrate the remote changes (e.g.\u001b[m\n",
      "\u001b[33mhint: 'git pull ...') before pushing again.\u001b[m\n",
      "\u001b[33mhint: See the 'Note about fast-forwards' in 'git push --help' for details.\u001b[m\n"
     ]
    }
   ],
   "source": [
    "!git push --all"
   ]
  },
  {
   "cell_type": "code",
   "execution_count": 47,
   "metadata": {},
   "outputs": [
    {
     "name": "stdout",
     "output_type": "stream",
     "text": [
      "usage: git push [<options>] [<repository> [<refspec>...]]\r\n",
      "\r\n",
      "    -v, --verbose         be more verbose\r\n",
      "    -q, --quiet           be more quiet\r\n",
      "    --repo <repository>   repository\r\n",
      "    --all                 push all refs\r\n",
      "    --mirror              mirror all refs\r\n",
      "    -d, --delete          delete refs\r\n",
      "    --tags                push tags (can't be used with --all or --mirror)\r\n",
      "    -n, --dry-run         dry run\r\n",
      "    --porcelain           machine-readable output\r\n",
      "    -f, --force           force updates\r\n",
      "    --force-with-lease[=<refname>:<expect>]\r\n",
      "                          require old value of ref to be at this value\r\n",
      "    --recurse-submodules[=(check|on-demand|no)]\r\n",
      "                          control recursive pushing of submodules\r\n",
      "    --thin                use thin pack\r\n",
      "    --receive-pack <receive-pack>\r\n",
      "                          receive pack program\r\n",
      "    --exec <receive-pack>\r\n",
      "                          receive pack program\r\n",
      "    -u, --set-upstream    set upstream for git pull/status\r\n",
      "    --progress            force progress reporting\r\n",
      "    --prune               prune locally removed refs\r\n",
      "    --no-verify           bypass pre-push hook\r\n",
      "    --follow-tags         push missing but relevant tags\r\n",
      "    --signed[=(yes|no|if-asked)]\r\n",
      "                          GPG sign the push\r\n",
      "    --atomic              request atomic transaction on remote side\r\n",
      "    -o, --push-option <server-specific>\r\n",
      "                          option to transmit\r\n",
      "    -4, --ipv4            use IPv4 addresses only\r\n",
      "    -6, --ipv6            use IPv6 addresses only\r\n",
      "\r\n"
     ]
    }
   ],
   "source": [
    "!git push -help"
   ]
  },
  {
   "cell_type": "code",
   "execution_count": null,
   "metadata": {},
   "outputs": [],
   "source": []
  }
 ],
 "metadata": {
  "kernelspec": {
   "display_name": "Python 3",
   "language": "python",
   "name": "python3"
  },
  "language_info": {
   "codemirror_mode": {
    "name": "ipython",
    "version": 3
   },
   "file_extension": ".py",
   "mimetype": "text/x-python",
   "name": "python",
   "nbconvert_exporter": "python",
   "pygments_lexer": "ipython3",
   "version": "3.7.4"
  }
 },
 "nbformat": 4,
 "nbformat_minor": 2
}
