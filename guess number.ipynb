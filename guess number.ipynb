{
 "cells": [
  {
   "cell_type": "code",
   "execution_count": 15,
   "metadata": {},
   "outputs": [
    {
     "name": "stdout",
     "output_type": "stream",
     "text": [
      "Guess a randomly generated number between 0 and 20.\n",
      "10\n",
      "too high\n",
      "100\n",
      "Please guess numbers between 0 and 20\n",
      "21\n",
      "Please guess numbers between 0 and 20\n",
      "5\n",
      "correct!!\n"
     ]
    }
   ],
   "source": [
    "from random import randrange\n",
    "\n",
    "num = randrange(0,21)\n",
    "\n",
    "def guess(n):\n",
    "        if n not in range(0,21):\n",
    "            print(\"Please guess numbers between 0 and 20\")\n",
    "        elif n > num:\n",
    "            print(\"too high\")\n",
    "        elif n < num:\n",
    "            print(\"too low\")\n",
    "        else:\n",
    "            print(\"correct!!\")\n",
    "            \n",
    "\n",
    "    \n",
    "if __name__ == \"__main__\":\n",
    "    print(\"Guess a randomly generated number between 0 and 20.\")\n",
    "    while num != n:\n",
    "        n = int(input())\n",
    "        guess(n)"
   ]
  },
  {
   "cell_type": "code",
   "execution_count": null,
   "metadata": {},
   "outputs": [],
   "source": []
  }
 ],
 "metadata": {
  "kernelspec": {
   "display_name": "Python 3",
   "language": "python",
   "name": "python3"
  },
  "language_info": {
   "codemirror_mode": {
    "name": "ipython",
    "version": 3
   },
   "file_extension": ".py",
   "mimetype": "text/x-python",
   "name": "python",
   "nbconvert_exporter": "python",
   "pygments_lexer": "ipython3",
   "version": "3.7.4"
  }
 },
 "nbformat": 4,
 "nbformat_minor": 2
}
